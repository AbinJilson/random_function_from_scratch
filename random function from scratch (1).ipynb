{
 "cells": [
  {
   "cell_type": "code",
   "execution_count": 1,
   "metadata": {},
   "outputs": [],
   "source": [
    "import numpy as np\n",
    "import matplotlib.pyplot as plt"
   ]
  },
  {
   "cell_type": "code",
   "execution_count": 2,
   "metadata": {},
   "outputs": [],
   "source": [
    "#random function using linear congruent generator\n",
    "def generate_rand(mult=16807,mod=(2**31)-1, seed=123456789, size=1):\n",
    "    U = np.zeros(size)\n",
    "    X = (seed*mult+1)%mod \n",
    "    U[0] = X/mod \n",
    "    for i in range(1, size):\n",
    "        X = (X*mult+1)%mod\n",
    "        U[i] = X/mod \n",
    "    return U"
   ]
  },
  {
   "cell_type": "code",
   "execution_count": 3,
   "metadata": {},
   "outputs": [],
   "source": [
    "def generate_random(low=0,high=1, seed=123456789, size=1):\n",
    "#Generates uniformly random number between 'low' and 'high' limits\n",
    "    return low+(high-low) *generate_rand(seed=seed, size=size)"
   ]
  },
  {
   "cell_type": "code",
   "execution_count": 4,
   "metadata": {
    "scrolled": true
   },
   "outputs": [
    {
     "data": {
      "image/png": "[encoded data removed]",
      "text/plain": [
       "<Figure size 432x288 with 1 Axes>"
      ]
     },
     "metadata": {
      "needs_background": "light"
     },
     "output_type": "display_data"
    }
   ],
   "source": [
    "l=generate_random(low=0,high=1, seed=123456789, size=10000) \n",
    "plt.hist(l,bins=20, edgecolor='k') \n",
    "plt.xticks(fontsize=15) \n",
    "plt.yticks(fontsize=15) \n",
    "plt.xlim(0,1) \n",
    "plt.show()"
   ]
  },
  {
   "cell_type": "code",
   "execution_count": 7,
   "metadata": {},
   "outputs": [],
   "source": [
    "def pi_estimator(samples):\n",
    "    points_inside_circle= 0\n",
    "    total_num_points = 0\n",
    "    X,Y = generate_rand(size=2*samples).reshape(2,-1)\n",
    "\n",
    "    for x,y in zip(X,Y):\n",
    "        distance = x**2 + y**2\n",
    "        if distance <= 1:\n",
    "            points_inside_circle +=1\n",
    "        total_num_points += 1\n",
    "    return round(4* points_inside_circle/total_num_points,2)"
   ]
  },
  {
   "cell_type": "code",
   "execution_count": 10,
   "metadata": {},
   "outputs": [
    {
     "data": {
      "text/plain": [
       "3.14"
      ]
     },
     "execution_count": 10,
     "metadata": {},
     "output_type": "execute_result"
    }
   ],
   "source": [
    "pi_estimator(100000)"
   ]
  }
 ],
 "metadata": {
  "kernelspec": {
   "display_name": "Python 3",
   "language": "python",
   "name": "python3"
  },
  "language_info": {
   "codemirror_mode": {
    "name": "ipython",
    "version": 3
   },
   "file_extension": ".py",
   "mimetype": "text/x-python",
   "name": "python",
   "nbconvert_exporter": "python",
   "pygments_lexer": "ipython3",
   "version": "3.7.6"
  }
 },
 "nbformat": 4,
 "nbformat_minor": 4
}
